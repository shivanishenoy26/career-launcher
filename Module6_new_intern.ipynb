{
 "cells": [
  {
   "cell_type": "markdown",
   "metadata": {},
   "source": [
    "# Query 6.1\n",
    " Create a table/data frame with the closing prices of 30 different stocks, with 10 from each of the caps"
   ]
  },
  {
   "cell_type": "code",
   "execution_count": 401,
   "metadata": {},
   "outputs": [],
   "source": [
    "import pandas as pd\n",
    "import numpy as np\n",
    "import seaborn as sns\n",
    "import matplotlib.pyplot as plt\n",
    "from sklearn.cluster import KMeans\n",
    "from sklearn.preprocessing import MinMaxScaler\n",
    "import warnings\n",
    "warnings.simplefilter('ignore')\n",
    "l=[]\n",
    "#small cap\n",
    "l.append(pd.read_csv(r'C:\\Users\\RACHIT\\Desktop\\dataset\\Small_Cap\\ASHOKA.csv'))\n",
    "l.append(pd.read_csv(r'C:\\Users\\RACHIT\\Desktop\\dataset\\Small_Cap\\FORTIS.csv'))\n",
    "l.append(pd.read_csv(r'C:\\Users\\RACHIT\\Desktop\\dataset\\Small_Cap\\IDFC.csv'))\n",
    "l.append(pd.read_csv(r'C:\\Users\\RACHIT\\Desktop\\dataset\\Small_Cap\\IRCON.csv'))\n",
    "l.append(pd.read_csv(r'C:\\Users\\RACHIT\\Desktop\\dataset\\Small_Cap\\ITDC.csv'))\n",
    "l.append(pd.read_csv(r'C:\\Users\\RACHIT\\Desktop\\dataset\\Small_Cap\\JETAIRWAYS.csv'))\n",
    "l.append(pd.read_csv(r'C:\\Users\\RACHIT\\Desktop\\dataset\\Small_Cap\\JKLAKSHMI.csv'))\n",
    "l.append(pd.read_csv(r'C:\\Users\\RACHIT\\Desktop\\dataset\\Small_Cap\\NCC.csv'))\n",
    "l.append(pd.read_csv(r'C:\\Users\\RACHIT\\Desktop\\dataset\\Small_Cap\\PVR.csv'))\n",
    "l.append(pd.read_csv(r'C:\\Users\\RACHIT\\Desktop\\dataset\\Small_Cap\\RCOM.csv'))\n",
    "\n",
    "#mid cap\n",
    "l.append(pd.read_csv(r'C:\\Users\\RACHIT\\Desktop\\dataset\\Mid_Cap\\ADANIPOWER.csv'))\n",
    "l.append(pd.read_csv(r'C:\\Users\\RACHIT\\Desktop\\dataset\\Mid_Cap\\JINDALSTEL.csv'))\n",
    "l.append(pd.read_csv(r'C:\\Users\\RACHIT\\Desktop\\dataset\\Mid_Cap\\IDBI.csv'))\n",
    "l.append(pd.read_csv(r'C:\\Users\\RACHIT\\Desktop\\dataset\\Mid_Cap\\VOLTAS.csv'))\n",
    "l.append(pd.read_csv(r'C:\\Users\\RACHIT\\Desktop\\dataset\\Mid_Cap\\TATAPOWER.csv'))\n",
    "l.append(pd.read_csv(r'C:\\Users\\RACHIT\\Desktop\\dataset\\Mid_Cap\\SUNTV.csv'))\n",
    "l.append(pd.read_csv(r'C:\\Users\\RACHIT\\Desktop\\dataset\\Mid_Cap\\PNB.csv'))\n",
    "l.append(pd.read_csv(r'C:\\Users\\RACHIT\\Desktop\\dataset\\Mid_Cap\\NBCC.csv'))\n",
    "l.append(pd.read_csv(r'C:\\Users\\RACHIT\\Desktop\\dataset\\Mid_Cap\\MINDTREE.csv'))\n",
    "l.append(pd.read_csv(r'C:\\Users\\RACHIT\\Desktop\\dataset\\Mid_Cap\\IGL.csv'))\n",
    "\n",
    "#large cap\n",
    "l.append(pd.read_csv(r'C:\\Users\\RACHIT\\Desktop\\dataset\\Large_Cap\\ASIANPAINT.csv'))\n",
    "l.append(pd.read_csv(r'C:\\Users\\RACHIT\\Desktop\\dataset\\Large_Cap\\AXISBANK.csv'))\n",
    "l.append(pd.read_csv(r'C:\\Users\\RACHIT\\Desktop\\dataset\\Large_Cap\\BPCL.csv'))\n",
    "l.append(pd.read_csv(r'C:\\Users\\RACHIT\\Desktop\\dataset\\Large_Cap\\GAIL.csv'))\n",
    "l.append(pd.read_csv(r'C:\\Users\\RACHIT\\Desktop\\dataset\\Large_Cap\\HINDALCO.csv'))\n",
    "l.append(pd.read_csv(r'C:\\Users\\RACHIT\\Desktop\\dataset\\Large_Cap\\TITAN.csv'))\n",
    "l.append(pd.read_csv(r'C:\\Users\\RACHIT\\Desktop\\dataset\\Large_Cap\\TCS.csv'))\n",
    "l.append(pd.read_csv(r'C:\\Users\\RACHIT\\Desktop\\dataset\\Large_Cap\\RELIANCE.csv'))\n",
    "l.append(pd.read_csv(r'C:\\Users\\RACHIT\\Desktop\\dataset\\Large_Cap\\MARUTI.csv'))\n",
    "l.append(pd.read_csv(r'C:\\Users\\RACHIT\\Desktop\\dataset\\Large_Cap\\LT.csv'))\n"
   ]
  },
  {
   "cell_type": "markdown",
   "metadata": {},
   "source": [
    "# Query 6.2\n",
    "Calculate average annual percentage return and volatility of all 30 stocks over a theoretical one year period"
   ]
  },
  {
   "cell_type": "code",
   "execution_count": 402,
   "metadata": {},
   "outputs": [
    {
     "data": {
      "text/html": [
       "<div>\n",
       "<style scoped>\n",
       "    .dataframe tbody tr th:only-of-type {\n",
       "        vertical-align: middle;\n",
       "    }\n",
       "\n",
       "    .dataframe tbody tr th {\n",
       "        vertical-align: top;\n",
       "    }\n",
       "\n",
       "    .dataframe thead th {\n",
       "        text-align: right;\n",
       "    }\n",
       "</style>\n",
       "<table border=\"1\" class=\"dataframe\">\n",
       "  <thead>\n",
       "    <tr style=\"text-align: right;\">\n",
       "      <th></th>\n",
       "      <th>Return</th>\n",
       "      <th>Std</th>\n",
       "    </tr>\n",
       "  </thead>\n",
       "  <tbody>\n",
       "    <tr>\n",
       "      <th>0</th>\n",
       "      <td>0.490212</td>\n",
       "      <td>0.338076</td>\n",
       "    </tr>\n",
       "    <tr>\n",
       "      <th>1</th>\n",
       "      <td>0.535857</td>\n",
       "      <td>0.312040</td>\n",
       "    </tr>\n",
       "    <tr>\n",
       "      <th>2</th>\n",
       "      <td>0.463325</td>\n",
       "      <td>0.236121</td>\n",
       "    </tr>\n",
       "    <tr>\n",
       "      <th>3</th>\n",
       "      <td>0.624484</td>\n",
       "      <td>0.000000</td>\n",
       "    </tr>\n",
       "    <tr>\n",
       "      <th>4</th>\n",
       "      <td>0.373068</td>\n",
       "      <td>0.441548</td>\n",
       "    </tr>\n",
       "  </tbody>\n",
       "</table>\n",
       "</div>"
      ],
      "text/plain": [
       "     Return       Std\n",
       "0  0.490212  0.338076\n",
       "1  0.535857  0.312040\n",
       "2  0.463325  0.236121\n",
       "3  0.624484  0.000000\n",
       "4  0.373068  0.441548"
      ]
     },
     "execution_count": 402,
     "metadata": {},
     "output_type": "execute_result"
    }
   ],
   "source": [
    "l1=[]\n",
    "l1.append(['ASHOKA','FORTIS','IDFC','IRCON','ITDC','JETAIRWAYS','JKLAKSHMI','NCC','PVR','RCOM','ADANIPOWER','JINDALSTEL','IDBI','VOLTAS','TATAPOWER','SUNTV','PNB','NBCC','MINDTREE','IGL','ASIANPAINT','AXISBANK','BPCL','GAIL','HINDALCO','TITAN','TCS','RELIANCE','MARUTI','LT'])\n",
    "r1=pd.DataFrame({'ASHOKA':l[0]['Close Price']})\n",
    "for i in range(1,30):\n",
    "    r2=pd.DataFrame({l1[0][i]:l[i]['Close Price']})\n",
    "    r1=pd.concat([r1,r2],axis=1)\n",
    "name=[]\n",
    "for i in range(30):\n",
    "    name.append(l1[0][i])\n",
    "store=(r1.pct_change()*100).dropna(axis=0)\n",
    "#r1=pd.concat([r1,store.mean()[0:30]],axis=0)\n",
    "l3=[]\n",
    "l4=[]\n",
    "for i in range(30):\n",
    "    l3.append((store.mean()*252)[i]) # storing annual percentage return (multiply by 252 for annual return)\n",
    "    l4.append((store.std()* np.sqrt(252))[i]) # storing annual volatility \n",
    "hell1=pd.DataFrame({'Return':l3,'Std':l4})\n",
    "mns=MinMaxScaler() # We need to normalize it (make it between 0 and 1)\n",
    "mns.fit(hell1)\n",
    "dt=mns.transform(hell1)\n",
    "norma=pd.DataFrame(dt,columns=['Return','Std'])\n",
    "norma.head()"
   ]
  },
  {
   "cell_type": "code",
   "execution_count": 403,
   "metadata": {},
   "outputs": [
    {
     "data": {
      "text/plain": [
       "<matplotlib.axes._subplots.AxesSubplot at 0xc487383550>"
      ]
     },
     "execution_count": 403,
     "metadata": {},
     "output_type": "execute_result"
    },
    {
     "data": {
      "image/png": "[encoded data removed]",
      "text/plain": [
       "<Figure size 432x288 with 1 Axes>"
      ]
     },
     "metadata": {
      "needs_background": "light"
     },
     "output_type": "display_data"
    }
   ],
   "source": [
    "norma.plot(kind='scatter',x='Return',y='Std')"
   ]
  },
  {
   "cell_type": "markdown",
   "metadata": {},
   "source": [
    "# Query 6.3\n",
    "Cluster the 30 stocks according to their mean annual Volatilities and Returns using K-means clustering. Identify the optimum number of clusters using the Elbow curve method"
   ]
  },
  {
   "cell_type": "code",
   "execution_count": 404,
   "metadata": {},
   "outputs": [
    {
     "data": {
      "text/plain": [
       "[<matplotlib.lines.Line2D at 0xc4874372e8>]"
      ]
     },
     "execution_count": 404,
     "metadata": {},
     "output_type": "execute_result"
    },
    {
     "data": {
      "image/png": "[encoded data removed]",
      "text/plain": [
       "<Figure size 432x288 with 1 Axes>"
      ]
     },
     "metadata": {
      "needs_background": "light"
     },
     "output_type": "display_data"
    }
   ],
   "source": [
    "\n",
    "distance=[]\n",
    "K=range(1,15)\n",
    "for k in K:\n",
    "    km=KMeans(n_clusters=k)\n",
    "    km=km.fit(norma)\n",
    "    distance.append(km.inertia_)\n",
    "plt.plot(K,distance,'bx-')"
   ]
  },
  {
   "cell_type": "code",
   "execution_count": 405,
   "metadata": {},
   "outputs": [
    {
     "name": "stdout",
     "output_type": "stream",
     "text": [
      "Since there is no sharp turn in above graph, so we have to approximate k value.\n",
      "From the graph we can see that variance stabilizes between 5 and 6, so lets take value of k as 5\n"
     ]
    }
   ],
   "source": [
    "print('Since there is no sharp turn in above graph, so we have to approximate k value.')\n",
    "print('From the graph we can see that variance stabilizes between 5 and 6, so lets take value of k as 5')"
   ]
  },
  {
   "cell_type": "markdown",
   "metadata": {},
   "source": [
    "# Query 6.4\n",
    "Prepare a separate Data frame to show which stocks belong to the same cluster "
   ]
  },
  {
   "cell_type": "code",
   "execution_count": 406,
   "metadata": {},
   "outputs": [],
   "source": [
    "km1=KMeans(n_clusters=5)\n",
    "km1=km1.fit(hello)\n",
    "hello2=pd.DataFrame({'Clusters':km1.labels_,'Company':name})\n",
    "rac=pd.concat([hello2,norma],axis=1)"
   ]
  },
  {
   "cell_type": "code",
   "execution_count": 407,
   "metadata": {},
   "outputs": [
    {
     "data": {
      "text/plain": [
       "<matplotlib.axes._subplots.AxesSubplot at 0xc4874668d0>"
      ]
     },
     "execution_count": 407,
     "metadata": {},
     "output_type": "execute_result"
    },
    {
     "data": {
      "image/png": "[encoded data removed]",
      "text/plain": [
       "<Figure size 432x288 with 1 Axes>"
      ]
     },
     "metadata": {
      "needs_background": "light"
     },
     "output_type": "display_data"
    }
   ],
   "source": [
    "sns.scatterplot(x='Return',y='Std',hue='Clusters',legend='full',data=rac)"
   ]
  },
  {
   "cell_type": "code",
   "execution_count": 408,
   "metadata": {},
   "outputs": [
    {
     "data": {
      "text/html": [
       "<div>\n",
       "<style scoped>\n",
       "    .dataframe tbody tr th:only-of-type {\n",
       "        vertical-align: middle;\n",
       "    }\n",
       "\n",
       "    .dataframe tbody tr th {\n",
       "        vertical-align: top;\n",
       "    }\n",
       "\n",
       "    .dataframe thead th {\n",
       "        text-align: right;\n",
       "    }\n",
       "</style>\n",
       "<table border=\"1\" class=\"dataframe\">\n",
       "  <thead>\n",
       "    <tr style=\"text-align: right;\">\n",
       "      <th></th>\n",
       "      <th>Clusters</th>\n",
       "      <th>Company</th>\n",
       "      <th>Return</th>\n",
       "      <th>Std</th>\n",
       "    </tr>\n",
       "  </thead>\n",
       "  <tbody>\n",
       "    <tr>\n",
       "      <th>0</th>\n",
       "      <td>0</td>\n",
       "      <td>ASHOKA</td>\n",
       "      <td>0.490212</td>\n",
       "      <td>0.338076</td>\n",
       "    </tr>\n",
       "    <tr>\n",
       "      <th>1</th>\n",
       "      <td>0</td>\n",
       "      <td>FORTIS</td>\n",
       "      <td>0.535857</td>\n",
       "      <td>0.312040</td>\n",
       "    </tr>\n",
       "    <tr>\n",
       "      <th>2</th>\n",
       "      <td>2</td>\n",
       "      <td>IDFC</td>\n",
       "      <td>0.463325</td>\n",
       "      <td>0.236121</td>\n",
       "    </tr>\n",
       "    <tr>\n",
       "      <th>3</th>\n",
       "      <td>4</td>\n",
       "      <td>IRCON</td>\n",
       "      <td>0.624484</td>\n",
       "      <td>0.000000</td>\n",
       "    </tr>\n",
       "    <tr>\n",
       "      <th>4</th>\n",
       "      <td>3</td>\n",
       "      <td>ITDC</td>\n",
       "      <td>0.373068</td>\n",
       "      <td>0.441548</td>\n",
       "    </tr>\n",
       "    <tr>\n",
       "      <th>5</th>\n",
       "      <td>3</td>\n",
       "      <td>JETAIRWAYS</td>\n",
       "      <td>0.291781</td>\n",
       "      <td>0.560038</td>\n",
       "    </tr>\n",
       "    <tr>\n",
       "      <th>6</th>\n",
       "      <td>2</td>\n",
       "      <td>JKLAKSHMI</td>\n",
       "      <td>0.519079</td>\n",
       "      <td>0.138784</td>\n",
       "    </tr>\n",
       "    <tr>\n",
       "      <th>7</th>\n",
       "      <td>0</td>\n",
       "      <td>NCC</td>\n",
       "      <td>0.685263</td>\n",
       "      <td>0.340778</td>\n",
       "    </tr>\n",
       "    <tr>\n",
       "      <th>8</th>\n",
       "      <td>2</td>\n",
       "      <td>PVR</td>\n",
       "      <td>0.722933</td>\n",
       "      <td>0.176052</td>\n",
       "    </tr>\n",
       "    <tr>\n",
       "      <th>9</th>\n",
       "      <td>1</td>\n",
       "      <td>RCOM</td>\n",
       "      <td>0.000000</td>\n",
       "      <td>1.000000</td>\n",
       "    </tr>\n",
       "    <tr>\n",
       "      <th>10</th>\n",
       "      <td>3</td>\n",
       "      <td>ADANIPOWER</td>\n",
       "      <td>0.864327</td>\n",
       "      <td>0.542557</td>\n",
       "    </tr>\n",
       "    <tr>\n",
       "      <th>11</th>\n",
       "      <td>0</td>\n",
       "      <td>JINDALSTEL</td>\n",
       "      <td>0.842554</td>\n",
       "      <td>0.399101</td>\n",
       "    </tr>\n",
       "    <tr>\n",
       "      <th>12</th>\n",
       "      <td>0</td>\n",
       "      <td>IDBI</td>\n",
       "      <td>0.426498</td>\n",
       "      <td>0.351273</td>\n",
       "    </tr>\n",
       "    <tr>\n",
       "      <th>13</th>\n",
       "      <td>2</td>\n",
       "      <td>VOLTAS</td>\n",
       "      <td>0.781140</td>\n",
       "      <td>0.173782</td>\n",
       "    </tr>\n",
       "    <tr>\n",
       "      <th>14</th>\n",
       "      <td>2</td>\n",
       "      <td>TATAPOWER</td>\n",
       "      <td>0.568813</td>\n",
       "      <td>0.174064</td>\n",
       "    </tr>\n",
       "    <tr>\n",
       "      <th>15</th>\n",
       "      <td>2</td>\n",
       "      <td>SUNTV</td>\n",
       "      <td>0.492254</td>\n",
       "      <td>0.243425</td>\n",
       "    </tr>\n",
       "    <tr>\n",
       "      <th>16</th>\n",
       "      <td>3</td>\n",
       "      <td>PNB</td>\n",
       "      <td>0.467689</td>\n",
       "      <td>0.463059</td>\n",
       "    </tr>\n",
       "    <tr>\n",
       "      <th>17</th>\n",
       "      <td>0</td>\n",
       "      <td>NBCC</td>\n",
       "      <td>0.266909</td>\n",
       "      <td>0.418259</td>\n",
       "    </tr>\n",
       "    <tr>\n",
       "      <th>18</th>\n",
       "      <td>2</td>\n",
       "      <td>MINDTREE</td>\n",
       "      <td>0.927893</td>\n",
       "      <td>0.214230</td>\n",
       "    </tr>\n",
       "    <tr>\n",
       "      <th>19</th>\n",
       "      <td>3</td>\n",
       "      <td>IGL</td>\n",
       "      <td>0.528307</td>\n",
       "      <td>0.593418</td>\n",
       "    </tr>\n",
       "    <tr>\n",
       "      <th>20</th>\n",
       "      <td>4</td>\n",
       "      <td>ASIANPAINT</td>\n",
       "      <td>0.713392</td>\n",
       "      <td>0.053106</td>\n",
       "    </tr>\n",
       "    <tr>\n",
       "      <th>21</th>\n",
       "      <td>2</td>\n",
       "      <td>AXISBANK</td>\n",
       "      <td>0.811843</td>\n",
       "      <td>0.136649</td>\n",
       "    </tr>\n",
       "    <tr>\n",
       "      <th>22</th>\n",
       "      <td>0</td>\n",
       "      <td>BPCL</td>\n",
       "      <td>0.451684</td>\n",
       "      <td>0.330083</td>\n",
       "    </tr>\n",
       "    <tr>\n",
       "      <th>23</th>\n",
       "      <td>2</td>\n",
       "      <td>GAIL</td>\n",
       "      <td>0.603774</td>\n",
       "      <td>0.210486</td>\n",
       "    </tr>\n",
       "    <tr>\n",
       "      <th>24</th>\n",
       "      <td>2</td>\n",
       "      <td>HINDALCO</td>\n",
       "      <td>0.671119</td>\n",
       "      <td>0.207323</td>\n",
       "    </tr>\n",
       "    <tr>\n",
       "      <th>25</th>\n",
       "      <td>2</td>\n",
       "      <td>TITAN</td>\n",
       "      <td>1.000000</td>\n",
       "      <td>0.193927</td>\n",
       "    </tr>\n",
       "    <tr>\n",
       "      <th>26</th>\n",
       "      <td>0</td>\n",
       "      <td>TCS</td>\n",
       "      <td>0.696671</td>\n",
       "      <td>0.324214</td>\n",
       "    </tr>\n",
       "    <tr>\n",
       "      <th>27</th>\n",
       "      <td>0</td>\n",
       "      <td>RELIANCE</td>\n",
       "      <td>0.705621</td>\n",
       "      <td>0.333509</td>\n",
       "    </tr>\n",
       "    <tr>\n",
       "      <th>28</th>\n",
       "      <td>4</td>\n",
       "      <td>MARUTI</td>\n",
       "      <td>0.644906</td>\n",
       "      <td>0.072628</td>\n",
       "    </tr>\n",
       "    <tr>\n",
       "      <th>29</th>\n",
       "      <td>2</td>\n",
       "      <td>LT</td>\n",
       "      <td>0.579488</td>\n",
       "      <td>0.181074</td>\n",
       "    </tr>\n",
       "  </tbody>\n",
       "</table>\n",
       "</div>"
      ],
      "text/plain": [
       "    Clusters     Company    Return       Std\n",
       "0          0      ASHOKA  0.490212  0.338076\n",
       "1          0      FORTIS  0.535857  0.312040\n",
       "2          2        IDFC  0.463325  0.236121\n",
       "3          4       IRCON  0.624484  0.000000\n",
       "4          3        ITDC  0.373068  0.441548\n",
       "5          3  JETAIRWAYS  0.291781  0.560038\n",
       "6          2   JKLAKSHMI  0.519079  0.138784\n",
       "7          0         NCC  0.685263  0.340778\n",
       "8          2         PVR  0.722933  0.176052\n",
       "9          1        RCOM  0.000000  1.000000\n",
       "10         3  ADANIPOWER  0.864327  0.542557\n",
       "11         0  JINDALSTEL  0.842554  0.399101\n",
       "12         0        IDBI  0.426498  0.351273\n",
       "13         2      VOLTAS  0.781140  0.173782\n",
       "14         2   TATAPOWER  0.568813  0.174064\n",
       "15         2       SUNTV  0.492254  0.243425\n",
       "16         3         PNB  0.467689  0.463059\n",
       "17         0        NBCC  0.266909  0.418259\n",
       "18         2    MINDTREE  0.927893  0.214230\n",
       "19         3         IGL  0.528307  0.593418\n",
       "20         4  ASIANPAINT  0.713392  0.053106\n",
       "21         2    AXISBANK  0.811843  0.136649\n",
       "22         0        BPCL  0.451684  0.330083\n",
       "23         2        GAIL  0.603774  0.210486\n",
       "24         2    HINDALCO  0.671119  0.207323\n",
       "25         2       TITAN  1.000000  0.193927\n",
       "26         0         TCS  0.696671  0.324214\n",
       "27         0    RELIANCE  0.705621  0.333509\n",
       "28         4      MARUTI  0.644906  0.072628\n",
       "29         2          LT  0.579488  0.181074"
      ]
     },
     "execution_count": 408,
     "metadata": {},
     "output_type": "execute_result"
    }
   ],
   "source": [
    "rac"
   ]
  },
  {
   "cell_type": "code",
   "execution_count": null,
   "metadata": {},
   "outputs": [],
   "source": []
  },
  {
   "cell_type": "code",
   "execution_count": null,
   "metadata": {},
   "outputs": [],
   "source": []
  }
 ],
 "metadata": {
  "kernelspec": {
   "display_name": "Python 3",
   "language": "python",
   "name": "python3"
  },
  "language_info": {
   "codemirror_mode": {
    "name": "ipython",
    "version": 3
   },
   "file_extension": ".py",
   "mimetype": "text/x-python",
   "name": "python",
   "nbconvert_exporter": "python",
   "pygments_lexer": "ipython3",
   "version": "3.6.3"
  }
 },
 "nbformat": 4,
 "nbformat_minor": 2
}
