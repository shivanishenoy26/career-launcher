{
 "cells": [
  {
   "cell_type": "markdown",
   "metadata": {},
   "source": [
    "# QUERY 3.1\n",
    "Import the file 'gold.csv' (you will find this in the intro section to download or in '/Data/gold.csv' if you are using the jupyter notebook), which contains the data of the last 2 years price action of Indian (MCX) gold standard. Explore the dataframe. You'd see 2 unique columns - 'Pred' and 'new'. One of the 2 columns is a linear combination of the OHLC prices with varying coefficients while the other is a polynomial function of the same inputs. Also, one of the 2 columns is partially filled.\n",
    "Using linear regression, find the coefficients of the inputs and using the same trained model, complete the entire column.\n",
    "Also, try to fit the other column as well using a new linear regression model. Check if the predictions are accurate. Mention which column is a linear function and which is polynomial.\n",
    "(Hint: Plotting a histogram & distplot helps in recognizing the discrepencies in prediction, if any.)"
   ]
  },
  {
   "cell_type": "code",
   "execution_count": 12,
   "metadata": {},
   "outputs": [
    {
     "name": "stdout",
     "output_type": "stream",
     "text": [
      "The coefficient for Linear Regression are [ 1.01306267 -1.00039938  1.00537134 -1.01810115]\n",
      "Assume new column is Linear So MSE is 0.2841148088565647\n",
      "The coefficient for Polynomial Regression are [ 0.00000000e+00  1.01143585e+00 -1.00058453e+00  1.00498370e+00\n",
      " -1.01590068e+00  2.73163332e-07 -1.06766960e-06  3.26670411e-05\n",
      " -3.25170942e-05 -3.81729920e-07  6.25464412e-07  1.22690759e-06\n",
      " -1.22430358e-07 -3.32134990e-05  3.25116747e-05]\n",
      "Assume new column is Polynomial So MSE is 0.00035408750824057506\n",
      "Our Second Assumption has less Error Hence new Column is Polynomial\n"
     ]
    }
   ],
   "source": [
    "import pandas as pd\n",
    "import numpy as np\n",
    "import matplotlib.pyplot as plt\n",
    "import seaborn as sns\n",
    "from sklearn.model_selection import train_test_split \n",
    "from sklearn.linear_model import LinearRegression\n",
    "from sklearn.metrics import accuracy_score\n",
    "from sklearn.metrics import mean_squared_error\n",
    "from sklearn.preprocessing import PolynomialFeatures\n",
    "r=pd.read_csv(r\"C:\\Users\\RACHIT\\Desktop\\dataset\\GOLD.csv\")\n",
    "%matplotlib inline\n",
    "xdataset=r.drop(['Date','Vol.','Change %','Pred','new'],axis=1)\n",
    "# Right now taking into consideration new column to check if it is Linear or Polynomial\n",
    "ydataset=r['new']\n",
    "xtrain,xtest,ytrain,ytest=train_test_split(xdataset,ydataset,test_size=0.3,random_state=2)\n",
    "\n",
    "\n",
    "linear=LinearRegression()\n",
    "linear.fit(xtrain,ytrain)\n",
    "print('The coefficient for Linear Regression are',linear.coef_)\n",
    "print('Assume new column is Linear So MSE is',mean_squared_error(ytest,linear.predict(xtest)))\n",
    "\n",
    "linear1=LinearRegression()\n",
    "poly=PolynomialFeatures(degree=2)\n",
    "xrain=poly.fit_transform(xtrain.values)\n",
    "xwhole=poly.fit_transform(xdataset.values)\n",
    "#yrain=poly.fit_transform([ytrain])\n",
    "linear1.fit(xrain,ytrain)\n",
    "print('The coefficient for Polynomial Regression are',linear1.coef_)\n",
    "#linear.predict(poly.fit_transform(xtest.values))\n",
    "print('Assume new column is Polynomial So MSE is',mean_squared_error(ytest,linear1.predict(poly.fit_transform(xtest.values))))\n",
    "print('Our Second Assumption has less Error Hence new Column is Polynomial')\n"
   ]
  },
  {
   "cell_type": "code",
   "execution_count": 21,
   "metadata": {},
   "outputs": [
    {
     "name": "stdout",
     "output_type": "stream",
     "text": [
      "0.0003495715527131423\n",
      "AxesSubplot(0.125,0.125;0.775x0.755)\n",
      "AxesSubplot(0.125,0.125;0.775x0.755)\n"
     ]
    },
    {
     "data": {
      "image/png": "[encoded data removed]",
      "text/plain": [
       "<Figure size 432x288 with 1 Axes>"
      ]
     },
     "metadata": {
      "needs_background": "light"
     },
     "output_type": "display_data"
    }
   ],
   "source": [
    "import warnings\n",
    "warnings.simplefilter('ignore')\n",
    "e=r.loc[0:410]\n",
    "d=r.loc[411:512]\n",
    "dcop=d.drop(['Date','Vol.','Change %','Pred','new'],axis=1)\n",
    "store=linear.predict(dcop)\n",
    "d['Pred']=store[0:101]\n",
    "d['Pred']=round(d['Pred'])\n",
    "r1=pd.concat([e,d],axis=0)\n",
    "\n",
    "new_predict=linear1.predict(xwhole) # fit new column with Polynomial Features and predict on the xdataset\n",
    "r1['new_predict']=new_predict\n",
    "print(mean_squared_error(r1['new_predict'],r1['new']))\n",
    "print(sns.distplot(r1['new_predict'],color='b',label='Pred'))\n",
    "print(sns.distplot(r1['new'],color='r',label='new'))\n"
   ]
  },
  {
   "cell_type": "markdown",
   "metadata": {},
   "source": [
    "# QUERY 3.2\n",
    "Import the stock of your choosing AND the Nifty index. \n",
    "Using linear regression (OLS), calculate -\n",
    "The daily Beta value for the past 3 months. (Daily= Daily returns)\n",
    "The monthly Beta value. (Monthly= Monthly returns)\n",
    "Refrain from using the (covariance(x,y)/variance(x)) formula. \n",
    "Attempt the question using regression.(Regression Reference) \n",
    "Were the Beta values more or less than 1 ? What if it was negative ? \n",
    "Discuss. Include a brief writeup in the bottom of your jupyter notebook with your inferences from the Beta values and regression results\n"
   ]
  },
  {
   "cell_type": "code",
   "execution_count": 22,
   "metadata": {},
   "outputs": [
    {
     "name": "stdout",
     "output_type": "stream",
     "text": [
      "THe daily slope or BETA value is 2.1114939172659493\n",
      "THe monthly slope or BETA value is -1.4002905516275446\n"
     ]
    }
   ],
   "source": [
    "import statsmodels.api as sm\n",
    "## DAILY VALUE RETURN FROM 2 JULY TO 2 OCT\n",
    "## MONTHLY VALUE RETURN FROM 2 MAY TO 2 JULY\n",
    "data1=pd.read_csv(r'C:\\Users\\RACHIT\\Desktop\\dataset\\PNB.csv') #DAILY\n",
    "data2=pd.read_csv(r'C:\\Users\\RACHIT\\Desktop\\dataset\\nifty.csv')#DAILY\n",
    "data3=pd.read_csv(r'C:\\Users\\RACHIT\\Desktop\\dataset\\mnpnb.csv')#MONTHLY\n",
    "data4=pd.read_csv(r'C:\\Users\\RACHIT\\Desktop\\dataset\\mnif.csv')#MONTHLY\n",
    "Y=data1['Close'].pct_change().dropna(axis=0)\n",
    "X=data2['Close'].pct_change().dropna(axis=0)\n",
    "A=data3['Close'].pct_change().dropna(axis=0)\n",
    "B=data4['Close'].pct_change().dropna(axis=0)\n",
    "X1 = sm.add_constant(X)\n",
    "X2=sm.add_constant(B)\n",
    "model = sm.OLS(Y, X1)\n",
    "model1= sm.OLS(A,X2)\n",
    "results = model.fit()\n",
    "results1 = model1.fit()\n",
    "results.summary()\n",
    "print('THe daily slope or BETA value is',results.params.Close)\n",
    "print('THe monthly slope or BETA value is',results1.params.Close)\n",
    "##model=sm.OLS(pnbpct,niftypct)\n",
    "\n",
    "## NOTE\n",
    "##A beta that is greater than 1.0 indicates that the security's price is theoretically more volatile than the market. For example, if a stock's beta is 1.2, it is assumed to be 20% more volatile than the market.\n",
    "#A beta value of less than 1.0 means that the security is theoretically less volatile than the market, meaning the portfolio is less risky with the stock included than without it. For example, utility stocks often have low betas because they tend to move more slowly than market averages.\n",
    "#A beta of -1.0 means that the stock is inversely correlated to the market benchmark as if it were an opposite, mirror image of the benchmark’s trends. "
   ]
  },
  {
   "cell_type": "code",
   "execution_count": null,
   "metadata": {},
   "outputs": [],
   "source": []
  },
  {
   "cell_type": "code",
   "execution_count": null,
   "metadata": {},
   "outputs": [],
   "source": []
  }
 ],
 "metadata": {
  "kernelspec": {
   "display_name": "Python 3",
   "language": "python",
   "name": "python3"
  },
  "language_info": {
   "codemirror_mode": {
    "name": "ipython",
    "version": 3
   },
   "file_extension": ".py",
   "mimetype": "text/x-python",
   "name": "python",
   "nbconvert_exporter": "python",
   "pygments_lexer": "ipython3",
   "version": "3.6.3"
  }
 },
 "nbformat": 4,
 "nbformat_minor": 2
}
